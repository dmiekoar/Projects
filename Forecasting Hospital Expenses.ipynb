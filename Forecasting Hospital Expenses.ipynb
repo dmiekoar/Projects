{
 "cells": [
  {
   "cell_type": "markdown",
   "metadata": {},
   "source": [
    "# <font color='blue'>Forecasting Hospital Expenses</font>"
   ]
  },
  {
   "cell_type": "code",
   "execution_count": 1,
   "metadata": {},
   "outputs": [],
   "source": [
    "import pandas as pd\n",
    "import numpy as np\n",
    "import seaborn as sns\n",
    "import matplotlib.pyplot as plt\n",
    "from IPython.core.pylabtools import figsize\n",
    "\n",
    "%matplotlib inline"
   ]
  },
  {
   "cell_type": "code",
   "execution_count": 2,
   "metadata": {},
   "outputs": [
    {
     "data": {
      "text/html": [
       "<div>\n",
       "<style scoped>\n",
       "    .dataframe tbody tr th:only-of-type {\n",
       "        vertical-align: middle;\n",
       "    }\n",
       "\n",
       "    .dataframe tbody tr th {\n",
       "        vertical-align: top;\n",
       "    }\n",
       "\n",
       "    .dataframe thead th {\n",
       "        text-align: right;\n",
       "    }\n",
       "</style>\n",
       "<table border=\"1\" class=\"dataframe\">\n",
       "  <thead>\n",
       "    <tr style=\"text-align: right;\">\n",
       "      <th></th>\n",
       "      <th>idade</th>\n",
       "      <th>sexo</th>\n",
       "      <th>bmi</th>\n",
       "      <th>filhos</th>\n",
       "      <th>fumante</th>\n",
       "      <th>regiao</th>\n",
       "      <th>gastos</th>\n",
       "    </tr>\n",
       "  </thead>\n",
       "  <tbody>\n",
       "    <tr>\n",
       "      <th>0</th>\n",
       "      <td>19</td>\n",
       "      <td>mulher</td>\n",
       "      <td>27.9</td>\n",
       "      <td>0</td>\n",
       "      <td>sim</td>\n",
       "      <td>sudeste</td>\n",
       "      <td>16884.92</td>\n",
       "    </tr>\n",
       "    <tr>\n",
       "      <th>1</th>\n",
       "      <td>18</td>\n",
       "      <td>homem</td>\n",
       "      <td>33.8</td>\n",
       "      <td>1</td>\n",
       "      <td>nao</td>\n",
       "      <td>sul</td>\n",
       "      <td>1725.55</td>\n",
       "    </tr>\n",
       "    <tr>\n",
       "      <th>2</th>\n",
       "      <td>28</td>\n",
       "      <td>homem</td>\n",
       "      <td>33.0</td>\n",
       "      <td>3</td>\n",
       "      <td>nao</td>\n",
       "      <td>sul</td>\n",
       "      <td>4449.46</td>\n",
       "    </tr>\n",
       "    <tr>\n",
       "      <th>3</th>\n",
       "      <td>33</td>\n",
       "      <td>homem</td>\n",
       "      <td>22.7</td>\n",
       "      <td>0</td>\n",
       "      <td>nao</td>\n",
       "      <td>nordeste</td>\n",
       "      <td>21984.47</td>\n",
       "    </tr>\n",
       "    <tr>\n",
       "      <th>4</th>\n",
       "      <td>32</td>\n",
       "      <td>homem</td>\n",
       "      <td>28.9</td>\n",
       "      <td>0</td>\n",
       "      <td>nao</td>\n",
       "      <td>nordeste</td>\n",
       "      <td>3866.86</td>\n",
       "    </tr>\n",
       "  </tbody>\n",
       "</table>\n",
       "</div>"
      ],
      "text/plain": [
       "   idade    sexo   bmi  filhos fumante    regiao    gastos\n",
       "0     19  mulher  27.9       0     sim   sudeste  16884.92\n",
       "1     18   homem  33.8       1     nao       sul   1725.55\n",
       "2     28   homem  33.0       3     nao       sul   4449.46\n",
       "3     33   homem  22.7       0     nao  nordeste  21984.47\n",
       "4     32   homem  28.9       0     nao  nordeste   3866.86"
      ]
     },
     "execution_count": 2,
     "metadata": {},
     "output_type": "execute_result"
    }
   ],
   "source": [
    "expenses = pd.read_csv('despesas.csv')\n",
    "expenses.head()"
   ]
  },
  {
   "cell_type": "code",
   "execution_count": 3,
   "metadata": {},
   "outputs": [
    {
     "data": {
      "text/html": [
       "<div>\n",
       "<style scoped>\n",
       "    .dataframe tbody tr th:only-of-type {\n",
       "        vertical-align: middle;\n",
       "    }\n",
       "\n",
       "    .dataframe tbody tr th {\n",
       "        vertical-align: top;\n",
       "    }\n",
       "\n",
       "    .dataframe thead th {\n",
       "        text-align: right;\n",
       "    }\n",
       "</style>\n",
       "<table border=\"1\" class=\"dataframe\">\n",
       "  <thead>\n",
       "    <tr style=\"text-align: right;\">\n",
       "      <th></th>\n",
       "      <th>idade</th>\n",
       "      <th>bmi</th>\n",
       "      <th>filhos</th>\n",
       "      <th>gastos</th>\n",
       "    </tr>\n",
       "  </thead>\n",
       "  <tbody>\n",
       "    <tr>\n",
       "      <th>count</th>\n",
       "      <td>1338.000000</td>\n",
       "      <td>1338.000000</td>\n",
       "      <td>1338.000000</td>\n",
       "      <td>1338.000000</td>\n",
       "    </tr>\n",
       "    <tr>\n",
       "      <th>mean</th>\n",
       "      <td>39.207025</td>\n",
       "      <td>30.665471</td>\n",
       "      <td>1.094918</td>\n",
       "      <td>13270.422414</td>\n",
       "    </tr>\n",
       "    <tr>\n",
       "      <th>std</th>\n",
       "      <td>14.049960</td>\n",
       "      <td>6.098382</td>\n",
       "      <td>1.205493</td>\n",
       "      <td>12110.011240</td>\n",
       "    </tr>\n",
       "    <tr>\n",
       "      <th>min</th>\n",
       "      <td>18.000000</td>\n",
       "      <td>16.000000</td>\n",
       "      <td>0.000000</td>\n",
       "      <td>1121.870000</td>\n",
       "    </tr>\n",
       "    <tr>\n",
       "      <th>25%</th>\n",
       "      <td>27.000000</td>\n",
       "      <td>26.300000</td>\n",
       "      <td>0.000000</td>\n",
       "      <td>4740.287500</td>\n",
       "    </tr>\n",
       "    <tr>\n",
       "      <th>50%</th>\n",
       "      <td>39.000000</td>\n",
       "      <td>30.400000</td>\n",
       "      <td>1.000000</td>\n",
       "      <td>9382.030000</td>\n",
       "    </tr>\n",
       "    <tr>\n",
       "      <th>75%</th>\n",
       "      <td>51.000000</td>\n",
       "      <td>34.700000</td>\n",
       "      <td>2.000000</td>\n",
       "      <td>16639.915000</td>\n",
       "    </tr>\n",
       "    <tr>\n",
       "      <th>max</th>\n",
       "      <td>64.000000</td>\n",
       "      <td>53.100000</td>\n",
       "      <td>5.000000</td>\n",
       "      <td>63770.430000</td>\n",
       "    </tr>\n",
       "  </tbody>\n",
       "</table>\n",
       "</div>"
      ],
      "text/plain": [
       "             idade          bmi       filhos        gastos\n",
       "count  1338.000000  1338.000000  1338.000000   1338.000000\n",
       "mean     39.207025    30.665471     1.094918  13270.422414\n",
       "std      14.049960     6.098382     1.205493  12110.011240\n",
       "min      18.000000    16.000000     0.000000   1121.870000\n",
       "25%      27.000000    26.300000     0.000000   4740.287500\n",
       "50%      39.000000    30.400000     1.000000   9382.030000\n",
       "75%      51.000000    34.700000     2.000000  16639.915000\n",
       "max      64.000000    53.100000     5.000000  63770.430000"
      ]
     },
     "execution_count": 3,
     "metadata": {},
     "output_type": "execute_result"
    }
   ],
   "source": [
    "expenses.describe()"
   ]
  },
  {
   "cell_type": "code",
   "execution_count": 4,
   "metadata": {},
   "outputs": [],
   "source": [
    "gender = {'homem':0, 'mulher':1}\n",
    "smoker = {'nao':0, 'sim':1}\n",
    "area = {'sudeste':0, 'sul':1, 'centro-oeste':2, 'nordeste':3, 'norte':4}\n",
    "\n",
    "expenses['sexo'] = expenses['sexo'].map(gender)\n",
    "expenses['fumante'] = expenses['fumante'].map(smoker)\n",
    "expenses['regiao'] = expenses['regiao'].map(area)"
   ]
  },
  {
   "cell_type": "code",
   "execution_count": 5,
   "metadata": {},
   "outputs": [
    {
     "data": {
      "image/png": "[encoded data removed]",
      "text/plain": [
       "<matplotlib.figure.Figure at 0x104e0f518>"
      ]
     },
     "metadata": {},
     "output_type": "display_data"
    }
   ],
   "source": [
    "# Calculates the correlation and plot the data in s heatmap\n",
    "sns.heatmap(expenses.corr(), annot = True, cmap = 'viridis', linewidths = 0.2, annot_kws = {'size':12}, fmt = '.2f')\n",
    "fig = plt.gcf()\n",
    "fig.set_size_inches(10, 8)\n",
    "plt.xticks(fontsize = 12)\n",
    "plt.yticks(fontsize = 12)\n",
    "plt.show()"
   ]
  },
  {
   "cell_type": "code",
   "execution_count": 6,
   "metadata": {},
   "outputs": [],
   "source": [
    "# Creating new variables to try to enrich the model\n",
    "expenses['bmi_over_30'] = expenses['bmi'].apply(lambda x: 1 if x > 30 else 0)\n",
    "expenses['age'] = expenses['idade'].apply(lambda x: np.square(x))"
   ]
  },
  {
   "cell_type": "code",
   "execution_count": 7,
   "metadata": {},
   "outputs": [
    {
     "name": "stderr",
     "output_type": "stream",
     "text": [
      "/Users/Daniela/anaconda3/lib/python3.6/site-packages/sklearn/preprocessing/data.py:625: DataConversionWarning: Data with input dtype int64, float64 were all converted to float64 by StandardScaler.\n",
      "  return self.partial_fit(X, y)\n",
      "/Users/Daniela/anaconda3/lib/python3.6/site-packages/sklearn/base.py:462: DataConversionWarning: Data with input dtype int64, float64 were all converted to float64 by StandardScaler.\n",
      "  return self.fit(X, **fit_params).transform(X)\n"
     ]
    }
   ],
   "source": [
    "from sklearn.preprocessing import LabelEncoder\n",
    "from sklearn.preprocessing import StandardScaler, Normalizer\n",
    "\n",
    "select = [c for c in expenses.columns if c not in ['gastos','sexo','fumante', 'regiao','bmi_over_30']]\n",
    "    \n",
    "scaler_x = StandardScaler()\n",
    "normal_x = Normalizer()\n",
    "\n",
    "scaler_y = StandardScaler()\n",
    "normal_y = Normalizer()\n",
    "\n",
    "df_normalized = pd.DataFrame(scaler_x.fit_transform(expenses[select]))\n",
    "df_transformed = pd.DataFrame(normal_x.fit_transform(df_normalized))\n",
    "df_transformed.columns = select\n",
    "expenses[select] = df_transformed\n",
    "\n",
    "expenses['gastos'] = pd.DataFrame(scaler_y.fit_transform(np.array(expenses['gastos']).reshape(-1,1)))"
   ]
  },
  {
   "cell_type": "code",
   "execution_count": 8,
   "metadata": {},
   "outputs": [],
   "source": [
    "le = LabelEncoder()\n",
    "for col in ['sexo','fumante', 'regiao', 'bmi_over_30']:\n",
    "    expenses[col] = le.fit_transform(expenses[col])\n",
    "#expenses = pd.get_dummies(expenses, columns = ['regiao']) ## worsens the model"
   ]
  },
  {
   "cell_type": "code",
   "execution_count": 9,
   "metadata": {},
   "outputs": [
    {
     "name": "stderr",
     "output_type": "stream",
     "text": [
      "/Users/Daniela/anaconda3/lib/python3.6/site-packages/sklearn/ensemble/forest.py:246: FutureWarning: The default value of n_estimators will change from 10 in version 0.20 to 100 in 0.22.\n",
      "  \"10 in version 0.20 to 100 in 0.22.\", FutureWarning)\n"
     ]
    },
    {
     "name": "stdout",
     "output_type": "stream",
     "text": [
      "Random Forest Regressor performance on the test set: MAE = 0.1945\n",
      "Random Forest Regressor performance on the test set: MSE = 0.1433\n",
      "\n",
      "Gradient Boosted Regressor performance on the test set: MAE = 0.1991\n",
      "Gradient Boosted Regressor performance on the test set: MSE = 0.1328\n"
     ]
    }
   ],
   "source": [
    "from sklearn.model_selection import train_test_split, RandomizedSearchCV, GridSearchCV\n",
    "from sklearn.ensemble import RandomForestRegressor, GradientBoostingRegressor\n",
    "from sklearn.metrics import mean_squared_error, mean_absolute_error\n",
    "\n",
    "features = [c for c in expenses.columns if c not in ['gastos', 'regiao']]\n",
    "\n",
    "X_train, X_test, y_train, y_test = train_test_split(expenses[features], expenses['gastos'], test_size = 0.2, random_state = 42)\n",
    "\n",
    "rf = RandomForestRegressor(random_state = 42)\n",
    "\n",
    "model_rf = rf.fit(X_train, y_train)\n",
    "prediction = model_rf.predict(X_test)\n",
    "mse_rf = mean_squared_error(y_test, prediction)\n",
    "mae_rf = mean_absolute_error(y_test, prediction)\n",
    "\n",
    "print('Random Forest Regressor performance on the test set: MAE = {0:0.4f}' .format(mae_rf))\n",
    "print('Random Forest Regressor performance on the test set: MSE = {0:0.4f}\\n' .format(mse_rf))\n",
    "\n",
    "gbr = GradientBoostingRegressor(random_state = 42)\n",
    "\n",
    "model_gb = gbr.fit(X_train, y_train)\n",
    "prediction = model_gb.predict(X_test)\n",
    "mse_gb = mean_squared_error(y_test, prediction)\n",
    "mae_gb = mean_absolute_error(y_test, prediction)\n",
    "print('Gradient Boosted Regressor performance on the test set: MAE = {0:0.4f}' .format(mae_gb))\n",
    "print('Gradient Boosted Regressor performance on the test set: MSE = {0:0.4f}' .format(mse_gb))"
   ]
  },
  {
   "cell_type": "code",
   "execution_count": 10,
   "metadata": {},
   "outputs": [
    {
     "name": "stdout",
     "output_type": "stream",
     "text": [
      "Fitting 2 folds for each of 25 candidates, totalling 50 fits\n"
     ]
    },
    {
     "name": "stderr",
     "output_type": "stream",
     "text": [
      "[Parallel(n_jobs=-1)]: Using backend LokyBackend with 4 concurrent workers.\n",
      "[Parallel(n_jobs=-1)]: Done  42 tasks      | elapsed:   39.0s\n",
      "[Parallel(n_jobs=-1)]: Done  50 out of  50 | elapsed:   48.0s finished\n"
     ]
    },
    {
     "name": "stdout",
     "output_type": "stream",
     "text": [
      "GradientBoostingRegressor(alpha=0.9, criterion='friedman_mse', init=None,\n",
      "             learning_rate=0.1, loss='lad', max_depth=5,\n",
      "             max_features='auto', max_leaf_nodes=None,\n",
      "             min_impurity_decrease=0.0, min_impurity_split=None,\n",
      "             min_samples_leaf=15, min_samples_split=10,\n",
      "             min_weight_fraction_leaf=0.0, n_estimators=500,\n",
      "             n_iter_no_change=None, presort='auto', random_state=42,\n",
      "             subsample=1.0, tol=0.0001, validation_fraction=0.1, verbose=0,\n",
      "             warm_start=False)\n"
     ]
    }
   ],
   "source": [
    "# Define the grid of hyperparameters to search\n",
    "hyperparameter_grid = {'loss': ['lad', 'huber'],\n",
    "                       'n_estimators':[10, 100, 500, 1000, 1500],\n",
    "                       'learning_rate': [0.01, 0.05, 0.1, 0.3],\n",
    "                       'max_depth': [3, 5, 10],\n",
    "                       'min_samples_leaf': [0.1, 0.5, 1, 3, 5, 10, 15],\n",
    "                       'min_samples_split': [3, 5, 10, 15],\n",
    "                       'max_features': ['auto', 'sqrt']\n",
    "                      }\n",
    "number_cv, number_iter = 2, 25\n",
    "\n",
    "def model(hyperparameter_grid, number_cv, number_iter):\n",
    "\n",
    "\n",
    "    # Create the model to use for hyperparameter tuning\n",
    "    model = GradientBoostingRegressor(random_state = 42)\n",
    "\n",
    "    # Set up the random search with 2-fold cross validation\n",
    "    random_cv = RandomizedSearchCV(estimator=model, param_distributions=hyperparameter_grid,\n",
    "                               cv= number_cv, n_iter= number_iter, \n",
    "                               scoring = 'neg_mean_absolute_error',\n",
    "                               n_jobs = -1, verbose = 1, \n",
    "                               return_train_score = True,\n",
    "                               random_state = 42)\n",
    "\n",
    "    # Fit on the training data\n",
    "    random_cv.fit(X_train, y_train)\n",
    "\n",
    "    return random_cv.best_estimator_\n",
    "model = model(hyperparameter_grid, number_cv, number_iter)\n",
    "print(model)"
   ]
  },
  {
   "cell_type": "code",
   "execution_count": 11,
   "metadata": {},
   "outputs": [
    {
     "name": "stdout",
     "output_type": "stream",
     "text": [
      "Gradient Boosted Regressor performance on the test set: MAE = 0.1377\n",
      "Gradient Boosted Regressor performance on the test set: MSE = 0.1321\n"
     ]
    }
   ],
   "source": [
    "prediction = model.predict(X_test)\n",
    "\n",
    "mse_gb = mean_squared_error(y_test, prediction)\n",
    "mae_gb = mean_absolute_error(y_test, prediction)\n",
    "print('Gradient Boosted Regressor performance on the test set: MAE = {0:0.4f}' .format(mae_gb))\n",
    "print('Gradient Boosted Regressor performance on the test set: MSE = {0:0.4f}' .format(mse_gb))"
   ]
  },
  {
   "cell_type": "code",
   "execution_count": 12,
   "metadata": {},
   "outputs": [
    {
     "name": "stdout",
     "output_type": "stream",
     "text": [
      "Gradient Boosted Regressor performance on the test set: MAE = 0.1510\n",
      "Gradient Boosted Regressor performance on the test set: MSE = 0.1336\n"
     ]
    }
   ],
   "source": [
    "from sklearn.ensemble import GradientBoostingRegressor\n",
    "from sklearn.metrics import mean_absolute_error\n",
    "\n",
    "gradient_boosted=GradientBoostingRegressor(loss ='lad', \n",
    "                            n_estimators = 1500,\n",
    "                            learning_rate = 0.3,\n",
    "                            max_depth = 5,\n",
    "                            max_features = 'auto',\n",
    "                            min_samples_leaf = 0.1,\n",
    "                            min_samples_split = 10,\n",
    "                            random_state = 42\n",
    "                          )\n",
    "\n",
    "gradient_boosted.fit(X_train, y_train)\n",
    "prediction = np.array(gradient_boosted.predict(X_test)).reshape(-1,1)\n",
    "\n",
    "mse_gb = mean_squared_error(y_test, prediction)\n",
    "mae_gb = mean_absolute_error(y_test, prediction)\n",
    "print('Gradient Boosted Regressor performance on the test set: MAE = {0:0.4f}' .format(mae_gb))\n",
    "print('Gradient Boosted Regressor performance on the test set: MSE = {0:0.4f}' .format(mse_gb))"
   ]
  },
  {
   "cell_type": "code",
   "execution_count": 13,
   "metadata": {},
   "outputs": [
    {
     "name": "stdout",
     "output_type": "stream",
     "text": [
      "Fitting 2 folds for each of 12 candidates, totalling 24 fits\n"
     ]
    },
    {
     "name": "stderr",
     "output_type": "stream",
     "text": [
      "[Parallel(n_jobs=-1)]: Using backend LokyBackend with 4 concurrent workers.\n",
      "[Parallel(n_jobs=-1)]: Done  24 out of  24 | elapsed:   14.2s finished\n"
     ]
    },
    {
     "data": {
      "image/png": "[encoded data removed]",
      "text/plain": [
       "<matplotlib.figure.Figure at 0x1a16811588>"
      ]
     },
     "metadata": {},
     "output_type": "display_data"
    }
   ],
   "source": [
    "n_estimators_grid = {'n_estimators':[10, 50, 75, 100, 125, 200, 250, 500, 1000, 1500, 2000, 2500]}\n",
    "\n",
    "gradient_boosted = GradientBoostingRegressor(loss='lad', \n",
    "                            #n_estimators = 1500,\n",
    "                            learning_rate = 0.3,\n",
    "                            max_depth = 5,\n",
    "                            max_features = 'auto',\n",
    "                            min_samples_leaf = 0.1,\n",
    "                            min_samples_split = 10,\n",
    "                            random_state = 42\n",
    "                          )\n",
    "\n",
    "grid_search = GridSearchCV(estimator = gradient_boosted, \n",
    "                           param_grid = n_estimators_grid, \n",
    "                           cv = 2, \n",
    "                           scoring = 'neg_mean_absolute_error', \n",
    "                           verbose = 1,\n",
    "                           n_jobs = -1, \n",
    "                           return_train_score = True)\n",
    "\n",
    "grid_search.fit(X_train, y_train)\n",
    "\n",
    "results = pd.DataFrame(grid_search.cv_results_)\n",
    "\n",
    "figsize(8, 8)\n",
    "plt.style.use('fivethirtyeight')\n",
    "plt.plot(results['param_n_estimators'], -1 * results['mean_test_score'], label = 'Testing Error')\n",
    "plt.plot(results['param_n_estimators'], -1 * results['mean_train_score'], label = 'Training Error')\n",
    "plt.xlabel('Number of Trees'); plt.ylabel('Mean Abosolute Error'); plt.legend();\n",
    "plt.title('Performance vs Number of Trees');"
   ]
  },
  {
   "cell_type": "code",
   "execution_count": 14,
   "metadata": {},
   "outputs": [
    {
     "name": "stdout",
     "output_type": "stream",
     "text": [
      "Gradient Boosted Regressor performance on the test set: MAE = 0.1500\n",
      "Gradient Boosted Regressor performance on the test set: MSE = 0.1333\n"
     ]
    }
   ],
   "source": [
    "final_model = grid_search.best_estimator_\n",
    "final_model.fit(X_train, y_train)\n",
    "final_predictions = np.array(final_model.predict(X_test)).reshape(-1,1)\n",
    "\n",
    "mse_gb = mean_squared_error(y_test, final_predictions)\n",
    "mae_gb = mean_absolute_error(y_test, final_predictions)\n",
    "print('Gradient Boosted Regressor performance on the test set: MAE = {0:0.4f}' .format(mae_gb))\n",
    "print('Gradient Boosted Regressor performance on the test set: MSE = {0:0.4f}' .format(mse_gb))"
   ]
  }
 ],
 "metadata": {
  "kernelspec": {
   "display_name": "Python 3",
   "language": "python",
   "name": "python3"
  },
  "language_info": {
   "codemirror_mode": {
    "name": "ipython",
    "version": 3
   },
   "file_extension": ".py",
   "mimetype": "text/x-python",
   "name": "python",
   "nbconvert_exporter": "python",
   "pygments_lexer": "ipython3",
   "version": "3.6.8"
  }
 },
 "nbformat": 4,
 "nbformat_minor": 2
}
