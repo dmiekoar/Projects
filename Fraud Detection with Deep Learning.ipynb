{
 "cells": [
  {
   "cell_type": "markdown",
   "metadata": {},
   "source": [
    "# <font color='blue'>Using Deep Learning to detect fraud in credit card transactions</font>"
   ]
  },
  {
   "cell_type": "markdown",
   "metadata": {},
   "source": [
    "The dataset has been collected and analysed during a research collaboration of Worldline and the Machine Learning Group (http://mlg.ulb.ac.be) of ULB (Université Libre de Bruxelles) on big data mining and fraud detection. More details on current and past projects on related topics are available on https://www.researchgate.net/project/Fraud-detection-5 and the page of the DefeatFraud project.\n",
    "\n",
    "It contains credit cards transactions occured during two days of September 2013. It is a highly unbalanced dataset, and most variables have been anonimized and transformed using PCA. \"Time\" and \"Amount\" however haven't been transformed.\n",
    "\n",
    "The objective here is to identify fraudulent credit card transactions. The metric used should be the Area Under the Precision-Recall Curve (AUPRC).\n",
    "\n",
    "Some variable descriptions:\n",
    "- 'Time' expresses the time in seconds elapsed between each transaction and the first transaction in the dataset. \n",
    "- 'Amount' is the transaction amount, this feature can be used for example-dependant cost-senstive learning.\n",
    "- 'Class' is the response variable and it takes value 1 in case of fraud and 0 otherwise.\n"
   ]
  },
  {
   "cell_type": "markdown",
   "metadata": {},
   "source": [
    "# Takeaways\n",
    "\n",
    "In this notebook we explored how deep learning can be used to predict fraudulent transactions. There are several different frameworks which can be used, and here we utilize Keras, which uses Tensorflow as a backend, to build our model with different number of layers.\n",
    "\n",
    "We also practiced handling unbalanced data using `pandas_ml`, transforming features into components using `PCA` from `scikit-learn` and tuning Keras hyperparameters. Moreover, we used `pandas_ml` instead of `scikit-learn` to analyze our results."
   ]
  },
  {
   "cell_type": "markdown",
   "metadata": {},
   "source": [
    "References:\n",
    "\n",
    "https://www.kaggle.com/mlg-ulb/creditcardfraud\n",
    "\n",
    "Andrea Dal Pozzolo, Olivier Caelen, Reid A. Johnson and Gianluca Bontempi. Calibrating Probability with Undersampling for Unbalanced Classification. In Symposium on Computational Intelligence and Data Mining (CIDM), IEEE, 2015\n",
    "\n",
    "Dal Pozzolo, Andrea; Caelen, Olivier; Le Borgne, Yann-Ael; Waterschoot, Serge; Bontempi, Gianluca. Learned lessons in credit card fraud detection from a practitioner perspective, Expert systems with applications,41,10,4915-4928,2014, Pergamon\n",
    "\n",
    "Dal Pozzolo, Andrea; Boracchi, Giacomo; Caelen, Olivier; Alippi, Cesare; Bontempi, Gianluca. Credit card fraud detection: a realistic modeling and a novel learning strategy, IEEE transactions on neural networks and learning systems,29,8,3784-3797,2018,IEEE\n",
    "\n",
    "Dal Pozzolo, Andrea Adaptive Machine learning for credit card fraud detection ULB MLG PhD thesis (supervised by G. Bontempi)\n",
    "\n",
    "Carcillo, Fabrizio; Dal Pozzolo, Andrea; Le Borgne, Yann-Aël; Caelen, Olivier; Mazzer, Yannis; Bontempi, Gianluca. Scarff: a scalable framework for streaming credit card fraud detection with Spark, Information fusion,41, 182-194,2018,Elsevier\n",
    "\n",
    "Carcillo, Fabrizio; Le Borgne, Yann-Aël; Caelen, Olivier; Bontempi, Gianluca. Streaming active learning strategies for real-life credit card fraud detection: assessment and visualization, International Journal of Data Science and Analytics, 5,4,285-300,2018,Springer International Publishing\n",
    "\n",
    "Bertrand Lebichot, Yann-Aël Le Borgne, Liyun He, Frederic Oblé, Gianluca Bontempi Deep-Learning Domain Adaptation Techniques for Credit Cards Fraud Detection, INNSBDDL 2019: Recent Advances in Big Data and Deep Learning, pp 78-88, 2019\n",
    "\n",
    "Fabrizio Carcillo, Yann-Aël Le Borgne, Olivier Caelen, Frederic Oblé, Gianluca Bontempi Combining Unsupervised and Supervised Learning in Credit Card Fraud Detection Information Sciences, 2019"
   ]
  },
  {
   "cell_type": "code",
   "execution_count": 1,
   "metadata": {},
   "outputs": [],
   "source": [
    "# Loading packages\n",
    "import numpy as np\n",
    "import matplotlib.pyplot as plt\n",
    "import pandas as pd\n",
    "import seaborn as sns\n",
    "\n",
    "import warnings\n",
    "warnings.filterwarnings('ignore')"
   ]
  },
  {
   "cell_type": "code",
   "execution_count": 2,
   "metadata": {},
   "outputs": [
    {
     "name": "stdout",
     "output_type": "stream",
     "text": [
      "(284807, 31)\n"
     ]
    },
    {
     "data": {
      "text/html": [
       "<div>\n",
       "<style scoped>\n",
       "    .dataframe tbody tr th:only-of-type {\n",
       "        vertical-align: middle;\n",
       "    }\n",
       "\n",
       "    .dataframe tbody tr th {\n",
       "        vertical-align: top;\n",
       "    }\n",
       "\n",
       "    .dataframe thead th {\n",
       "        text-align: right;\n",
       "    }\n",
       "</style>\n",
       "<table border=\"1\" class=\"dataframe\">\n",
       "  <thead>\n",
       "    <tr style=\"text-align: right;\">\n",
       "      <th></th>\n",
       "      <th>Time</th>\n",
       "      <th>V1</th>\n",
       "      <th>V2</th>\n",
       "      <th>V3</th>\n",
       "      <th>V4</th>\n",
       "      <th>V5</th>\n",
       "      <th>V6</th>\n",
       "      <th>V7</th>\n",
       "      <th>V8</th>\n",
       "      <th>V9</th>\n",
       "      <th>...</th>\n",
       "      <th>V21</th>\n",
       "      <th>V22</th>\n",
       "      <th>V23</th>\n",
       "      <th>V24</th>\n",
       "      <th>V25</th>\n",
       "      <th>V26</th>\n",
       "      <th>V27</th>\n",
       "      <th>V28</th>\n",
       "      <th>Amount</th>\n",
       "      <th>Class</th>\n",
       "    </tr>\n",
       "  </thead>\n",
       "  <tbody>\n",
       "    <tr>\n",
       "      <th>0</th>\n",
       "      <td>0.0</td>\n",
       "      <td>-1.359807</td>\n",
       "      <td>-0.072781</td>\n",
       "      <td>2.536347</td>\n",
       "      <td>1.378155</td>\n",
       "      <td>-0.338321</td>\n",
       "      <td>0.462388</td>\n",
       "      <td>0.239599</td>\n",
       "      <td>0.098698</td>\n",
       "      <td>0.363787</td>\n",
       "      <td>...</td>\n",
       "      <td>-0.018307</td>\n",
       "      <td>0.277838</td>\n",
       "      <td>-0.110474</td>\n",
       "      <td>0.066928</td>\n",
       "      <td>0.128539</td>\n",
       "      <td>-0.189115</td>\n",
       "      <td>0.133558</td>\n",
       "      <td>-0.021053</td>\n",
       "      <td>149.62</td>\n",
       "      <td>0</td>\n",
       "    </tr>\n",
       "    <tr>\n",
       "      <th>1</th>\n",
       "      <td>0.0</td>\n",
       "      <td>1.191857</td>\n",
       "      <td>0.266151</td>\n",
       "      <td>0.166480</td>\n",
       "      <td>0.448154</td>\n",
       "      <td>0.060018</td>\n",
       "      <td>-0.082361</td>\n",
       "      <td>-0.078803</td>\n",
       "      <td>0.085102</td>\n",
       "      <td>-0.255425</td>\n",
       "      <td>...</td>\n",
       "      <td>-0.225775</td>\n",
       "      <td>-0.638672</td>\n",
       "      <td>0.101288</td>\n",
       "      <td>-0.339846</td>\n",
       "      <td>0.167170</td>\n",
       "      <td>0.125895</td>\n",
       "      <td>-0.008983</td>\n",
       "      <td>0.014724</td>\n",
       "      <td>2.69</td>\n",
       "      <td>0</td>\n",
       "    </tr>\n",
       "    <tr>\n",
       "      <th>2</th>\n",
       "      <td>1.0</td>\n",
       "      <td>-1.358354</td>\n",
       "      <td>-1.340163</td>\n",
       "      <td>1.773209</td>\n",
       "      <td>0.379780</td>\n",
       "      <td>-0.503198</td>\n",
       "      <td>1.800499</td>\n",
       "      <td>0.791461</td>\n",
       "      <td>0.247676</td>\n",
       "      <td>-1.514654</td>\n",
       "      <td>...</td>\n",
       "      <td>0.247998</td>\n",
       "      <td>0.771679</td>\n",
       "      <td>0.909412</td>\n",
       "      <td>-0.689281</td>\n",
       "      <td>-0.327642</td>\n",
       "      <td>-0.139097</td>\n",
       "      <td>-0.055353</td>\n",
       "      <td>-0.059752</td>\n",
       "      <td>378.66</td>\n",
       "      <td>0</td>\n",
       "    </tr>\n",
       "    <tr>\n",
       "      <th>3</th>\n",
       "      <td>1.0</td>\n",
       "      <td>-0.966272</td>\n",
       "      <td>-0.185226</td>\n",
       "      <td>1.792993</td>\n",
       "      <td>-0.863291</td>\n",
       "      <td>-0.010309</td>\n",
       "      <td>1.247203</td>\n",
       "      <td>0.237609</td>\n",
       "      <td>0.377436</td>\n",
       "      <td>-1.387024</td>\n",
       "      <td>...</td>\n",
       "      <td>-0.108300</td>\n",
       "      <td>0.005274</td>\n",
       "      <td>-0.190321</td>\n",
       "      <td>-1.175575</td>\n",
       "      <td>0.647376</td>\n",
       "      <td>-0.221929</td>\n",
       "      <td>0.062723</td>\n",
       "      <td>0.061458</td>\n",
       "      <td>123.50</td>\n",
       "      <td>0</td>\n",
       "    </tr>\n",
       "    <tr>\n",
       "      <th>4</th>\n",
       "      <td>2.0</td>\n",
       "      <td>-1.158233</td>\n",
       "      <td>0.877737</td>\n",
       "      <td>1.548718</td>\n",
       "      <td>0.403034</td>\n",
       "      <td>-0.407193</td>\n",
       "      <td>0.095921</td>\n",
       "      <td>0.592941</td>\n",
       "      <td>-0.270533</td>\n",
       "      <td>0.817739</td>\n",
       "      <td>...</td>\n",
       "      <td>-0.009431</td>\n",
       "      <td>0.798278</td>\n",
       "      <td>-0.137458</td>\n",
       "      <td>0.141267</td>\n",
       "      <td>-0.206010</td>\n",
       "      <td>0.502292</td>\n",
       "      <td>0.219422</td>\n",
       "      <td>0.215153</td>\n",
       "      <td>69.99</td>\n",
       "      <td>0</td>\n",
       "    </tr>\n",
       "  </tbody>\n",
       "</table>\n",
       "<p>5 rows × 31 columns</p>\n",
       "</div>"
      ],
      "text/plain": [
       "   Time        V1        V2        V3        V4        V5        V6        V7  \\\n",
       "0   0.0 -1.359807 -0.072781  2.536347  1.378155 -0.338321  0.462388  0.239599   \n",
       "1   0.0  1.191857  0.266151  0.166480  0.448154  0.060018 -0.082361 -0.078803   \n",
       "2   1.0 -1.358354 -1.340163  1.773209  0.379780 -0.503198  1.800499  0.791461   \n",
       "3   1.0 -0.966272 -0.185226  1.792993 -0.863291 -0.010309  1.247203  0.237609   \n",
       "4   2.0 -1.158233  0.877737  1.548718  0.403034 -0.407193  0.095921  0.592941   \n",
       "\n",
       "         V8        V9  ...         V21       V22       V23       V24  \\\n",
       "0  0.098698  0.363787  ...   -0.018307  0.277838 -0.110474  0.066928   \n",
       "1  0.085102 -0.255425  ...   -0.225775 -0.638672  0.101288 -0.339846   \n",
       "2  0.247676 -1.514654  ...    0.247998  0.771679  0.909412 -0.689281   \n",
       "3  0.377436 -1.387024  ...   -0.108300  0.005274 -0.190321 -1.175575   \n",
       "4 -0.270533  0.817739  ...   -0.009431  0.798278 -0.137458  0.141267   \n",
       "\n",
       "        V25       V26       V27       V28  Amount  Class  \n",
       "0  0.128539 -0.189115  0.133558 -0.021053  149.62      0  \n",
       "1  0.167170  0.125895 -0.008983  0.014724    2.69      0  \n",
       "2 -0.327642 -0.139097 -0.055353 -0.059752  378.66      0  \n",
       "3  0.647376 -0.221929  0.062723  0.061458  123.50      0  \n",
       "4 -0.206010  0.502292  0.219422  0.215153   69.99      0  \n",
       "\n",
       "[5 rows x 31 columns]"
      ]
     },
     "execution_count": 2,
     "metadata": {},
     "output_type": "execute_result"
    }
   ],
   "source": [
    "df = pd.read_csv('input/creditcard.csv')\n",
    "X = df.iloc[:,:-1]\n",
    "y = df['Class']\n",
    "print(df.shape)\n",
    "df.head()"
   ]
  },
  {
   "cell_type": "code",
   "execution_count": 3,
   "metadata": {},
   "outputs": [
    {
     "name": "stdout",
     "output_type": "stream",
     "text": [
      "Non fraud 0: 284315 (99.83%)\n",
      "Fraud 1: 492 (0.17%)\n"
     ]
    },
    {
     "data": {
      "image/png": "[encoded data removed]",
      "text/plain": [
       "<matplotlib.figure.Figure at 0x113abdd68>"
      ]
     },
     "metadata": {},
     "output_type": "display_data"
    }
   ],
   "source": [
    "# Function to check the output variable\n",
    "def check_output(dataset, output):\n",
    "    amount = dataset[output].value_counts()\n",
    "    ratio =  dataset[output].value_counts(normalize = True)*100\n",
    "    print('Non fraud 0: {} ({}%)'.format(amount[0], round(ratio[0],2)))\n",
    "    print('Fraud 1: {} ({}%)'.format(amount[1], round(ratio[1],2)))\n",
    "\n",
    "    labels = ['1' if label == 1 else '0' for label in dataset[output]]\n",
    "    palette = {'1': '#f56b69', '0': '#3bbbb3'}\n",
    "\n",
    "    ax = sns.countplot(labels, palette = palette)\n",
    "    plt.title(output)\n",
    "    plt.ylabel('amount')\n",
    "    return plt.show()\n",
    "\n",
    "check_output(df, 'Class')"
   ]
  },
  {
   "cell_type": "markdown",
   "metadata": {},
   "source": [
    "# Model 1 - single neural network "
   ]
  },
  {
   "cell_type": "code",
   "execution_count": 4,
   "metadata": {},
   "outputs": [
    {
     "name": "stdout",
     "output_type": "stream",
     "text": [
      "(190820, 30)\n"
     ]
    }
   ],
   "source": [
    "from sklearn.model_selection import train_test_split\n",
    "\n",
    "X_train, X_test, y_train, y_test = train_test_split(X, y, test_size = 0.33, random_state = 42)\n",
    "print(X_train.shape)"
   ]
  },
  {
   "cell_type": "code",
   "execution_count": 5,
   "metadata": {},
   "outputs": [
    {
     "name": "stderr",
     "output_type": "stream",
     "text": [
      "Using TensorFlow backend.\n"
     ]
    },
    {
     "name": "stdout",
     "output_type": "stream",
     "text": [
      "_________________________________________________________________\n",
      "Layer (type)                 Output Shape              Param #   \n",
      "=================================================================\n",
      "dense_1 (Dense)              (None, 30)                930       \n",
      "_________________________________________________________________\n",
      "dense_2 (Dense)              (None, 1)                 31        \n",
      "=================================================================\n",
      "Total params: 961\n",
      "Trainable params: 961\n",
      "Non-trainable params: 0\n",
      "_________________________________________________________________\n"
     ]
    }
   ],
   "source": [
    "# Keras e TensorFlow\n",
    "from keras.models import Sequential\n",
    "from keras.layers import Dense\n",
    "\n",
    "model = Sequential()\n",
    "model.add(Dense(30, input_dim = X_train.shape[1], activation = 'relu'))     \n",
    "model.add(Dense(1, activation = 'sigmoid'))                \n",
    "model.compile(loss = 'binary_crossentropy', optimizer = 'adam', metrics = ['accuracy'])\n",
    "model.summary()"
   ]
  },
  {
   "cell_type": "code",
   "execution_count": 6,
   "metadata": {},
   "outputs": [
    {
     "name": "stdout",
     "output_type": "stream",
     "text": [
      "Epoch 1/1\n",
      "190820/190820 [==============================] - 10s 51us/step - loss: 0.3427 - acc: 0.9785\n"
     ]
    },
    {
     "data": {
      "text/plain": [
       "<keras.callbacks.History at 0x1a38fcc278>"
      ]
     },
     "execution_count": 6,
     "metadata": {},
     "output_type": "execute_result"
    }
   ],
   "source": [
    "model.fit(X_train.as_matrix(), y_train, epochs = 1)"
   ]
  },
  {
   "cell_type": "code",
   "execution_count": 7,
   "metadata": {
    "scrolled": true
   },
   "outputs": [
    {
     "name": "stdout",
     "output_type": "stream",
     "text": [
      "Loss/Accuracy:  [0.025553365930263618, 0.9984146743698596]\n",
      "Average precision-recall score: 0.00\n",
      "AUC: 0.50\n",
      "\n",
      "Confusion matrix:\n",
      "\n",
      " Predicted      0  1  __all__\n",
      "Actual                      \n",
      "0          93838  0    93838\n",
      "1            149  0      149\n",
      "__all__    93987  0    93987\n"
     ]
    },
    {
     "data": {
      "image/png": "[encoded data removed]",
      "text/plain": [
       "<matplotlib.figure.Figure at 0x1a39d01f60>"
      ]
     },
     "metadata": {},
     "output_type": "display_data"
    },
    {
     "name": "stdout",
     "output_type": "stream",
     "text": [
      "Confusion Matrix:\n",
      "\n",
      "Predicted      0  1  __all__\n",
      "Actual                      \n",
      "0          93838  0    93838\n",
      "1            149  0      149\n",
      "__all__    93987  0    93987\n",
      "\n",
      "\n",
      "Overall Statistics:\n",
      "\n",
      "Accuracy: 0.9984146743698596\n",
      "95% CI: (0.9981389650810484, 0.9986588455019066)\n",
      "No Information Rate: ToDo\n",
      "P-Value [Acc > NIR]: 1.0\n",
      "Kappa: 0.0\n",
      "Mcnemar's Test P-Value: ToDo\n",
      "\n",
      "\n",
      "Class Statistics:\n",
      "\n",
      "Classes                                         0           1\n",
      "Population                                  93987       93987\n",
      "P: Condition positive                       93838         149\n",
      "N: Condition negative                         149       93838\n",
      "Test outcome positive                       93987           0\n",
      "Test outcome negative                           0       93987\n",
      "TP: True Positive                           93838           0\n",
      "TN: True Negative                               0       93838\n",
      "FP: False Positive                            149           0\n",
      "FN: False Negative                              0         149\n",
      "TPR: (Sensitivity, hit rate, recall)            1           0\n",
      "TNR=SPC: (Specificity)                          0           1\n",
      "PPV: Pos Pred Value (Precision)          0.998415         NaN\n",
      "NPV: Neg Pred Value                           NaN    0.998415\n",
      "FPR: False-out                                  1           0\n",
      "FDR: False Discovery Rate              0.00158533         NaN\n",
      "FNR: Miss Rate                                  0           1\n",
      "ACC: Accuracy                            0.998415    0.998415\n",
      "F1 score                                 0.999207           0\n",
      "MCC: Matthews correlation coefficient         NaN         NaN\n",
      "Informedness                                    0           0\n",
      "Markedness                                    NaN         NaN\n",
      "Prevalence                               0.998415  0.00158533\n",
      "LR+: Positive likelihood ratio                  1         NaN\n",
      "LR-: Negative likelihood ratio                NaN           1\n",
      "DOR: Diagnostic odds ratio                    NaN         NaN\n",
      "FOR: False omission rate                      NaN  0.00158533\n"
     ]
    }
   ],
   "source": [
    "from pandas_ml import ConfusionMatrix\n",
    "from sklearn.metrics import average_precision_score, roc_auc_score\n",
    "\n",
    "print(\"Loss/Accuracy: \", model.evaluate(X_test.as_matrix(), y_test, verbose = 0))\n",
    "\n",
    "# Predicting frauds in the test dataset\n",
    "y_predicted = model.predict(X_test.as_matrix()).T[0].astype(int)\n",
    "\n",
    "average_precision = average_precision_score(y_test, y_predicted)\n",
    "roc_auc = roc_auc_score(y_test, y_predicted)\n",
    "\n",
    "print('Average precision-recall score: {0:0.2f}'.format(average_precision))\n",
    "print('AUC: {0:0.2f}'.format(roc_auc))\n",
    "\n",
    "\n",
    "# Plotting a confusion matrix\n",
    "y_true = np.array(y_test)\n",
    "confusion_matrix = ConfusionMatrix(y_true, y_predicted)\n",
    "print(\"\\nConfusion matrix:\\n\\n {}\" .format(confusion_matrix))\n",
    "confusion_matrix.plot(normalized = True)\n",
    "plt.show()\n",
    "confusion_matrix.print_stats()"
   ]
  },
  {
   "cell_type": "markdown",
   "metadata": {},
   "source": [
    "A single neural network yields an accuracy of 99%. But when we look at the confusion matrix, we can conclude that the model is not predicting the class correctly."
   ]
  },
  {
   "cell_type": "markdown",
   "metadata": {
    "collapsed": true
   },
   "source": [
    "# Model 2 - Applying scale, oversampling and PCA"
   ]
  },
  {
   "cell_type": "code",
   "execution_count": 8,
   "metadata": {},
   "outputs": [
    {
     "name": "stdout",
     "output_type": "stream",
     "text": [
      "After oversampling, we have 284315 registers that are fraud and 284315 registers that are ok.\n",
      "\n",
      "After scaling and applying PCA, our dataset has been reduced to 10 variables.\n"
     ]
    }
   ],
   "source": [
    "from sklearn.decomposition import PCA\n",
    "from sklearn.preprocessing import scale\n",
    "import pandas_ml as pdml\n",
    "\n",
    "\n",
    "## Oversampling #################################\n",
    "# Creating a ModelFrame to be able to oversample\n",
    "df2 = pdml.ModelFrame(X, target = y)\n",
    "# Set the type of imbalance treatment we wish to apply\n",
    "sampler = df2.imbalance.over_sampling.SMOTE()\n",
    "# Fit the sample to obtain the 'balanced' dataset\n",
    "oversampled = df2.fit_sample(sampler)\n",
    "\n",
    "print('After oversampling, we have {} registers that are fraud and {} registers that are ok.'\n",
    "      .format(oversampled['Class'].value_counts()[1],\n",
    "              oversampled['Class'].value_counts()[0]))\n",
    "# Split features and target\n",
    "new_X, new_y = oversampled.iloc[:,:-1], oversampled['Class']\n",
    "\n",
    "## Scale ########################################\n",
    "# Scale the features\n",
    "data = scale(new_X)\n",
    "\n",
    "## PCA ##########################################\n",
    "# Applying PCA to the scaled data, setting number of components to 10\n",
    "pca = PCA(n_components = 10)\n",
    "new_X = pca.fit_transform(data)\n",
    "print('\\nAfter scaling and applying PCA, our dataset has been reduced to 10 variables.')"
   ]
  },
  {
   "cell_type": "code",
   "execution_count": 9,
   "metadata": {},
   "outputs": [
    {
     "name": "stdout",
     "output_type": "stream",
     "text": [
      "_________________________________________________________________\n",
      "Layer (type)                 Output Shape              Param #   \n",
      "=================================================================\n",
      "dense_3 (Dense)              (None, 10)                110       \n",
      "_________________________________________________________________\n",
      "dense_4 (Dense)              (None, 1)                 11        \n",
      "=================================================================\n",
      "Total params: 121\n",
      "Trainable params: 121\n",
      "Non-trainable params: 0\n",
      "_________________________________________________________________\n"
     ]
    }
   ],
   "source": [
    "X2_train, X2_test, y2_train, y2_test = train_test_split(new_X, new_y.as_matrix(), test_size = 0.33, random_state = 42)\n",
    "\n",
    "model2 = Sequential()\n",
    "model2.add(Dense(10, input_dim = 10, activation = 'relu'))     \n",
    "model2.add(Dense(1, activation = 'sigmoid'))                \n",
    "model2.compile(loss = 'binary_crossentropy', optimizer = 'adam', metrics = ['accuracy'])\n",
    "model2.summary()"
   ]
  },
  {
   "cell_type": "code",
   "execution_count": 10,
   "metadata": {},
   "outputs": [
    {
     "name": "stdout",
     "output_type": "stream",
     "text": [
      "Epoch 1/1\n",
      "380982/380982 [==============================] - 19s 51us/step - loss: 0.0409 - acc: 0.9860\n"
     ]
    },
    {
     "data": {
      "text/plain": [
       "<keras.callbacks.History at 0x1a39dc3e80>"
      ]
     },
     "execution_count": 10,
     "metadata": {},
     "output_type": "execute_result"
    }
   ],
   "source": [
    "model2.fit(X2_train, y2_train, epochs = 1)"
   ]
  },
  {
   "cell_type": "code",
   "execution_count": 11,
   "metadata": {},
   "outputs": [
    {
     "name": "stdout",
     "output_type": "stream",
     "text": [
      "Loss/Accuracy:  [0.016149484859122657, 0.9953263557298773]\n",
      "Average precision-recall score: 0.77\n",
      "AUC: 0.77\n",
      "\n",
      "Confusion matrix:\n",
      "\n",
      " Predicted   False   True  __all__\n",
      "Actual                           \n",
      "False       93759     16    93775\n",
      "True        43734  50139    93873\n",
      "__all__    137493  50155   187648\n"
     ]
    },
    {
     "data": {
      "image/png": "[encoded data removed]",
      "text/plain": [
       "<matplotlib.figure.Figure at 0x1a3a682358>"
      ]
     },
     "metadata": {},
     "output_type": "display_data"
    }
   ],
   "source": [
    "# Evaluate model\n",
    "print(\"Loss/Accuracy: \", model2.evaluate(X2_test, y2_test, verbose = 0))\n",
    "\n",
    "# Predicting frauds in the test dataset\n",
    "y2_predicted = model2.predict(X2_test).T[0].astype(int)\n",
    "\n",
    "# Calculates precision-recall score and auc\n",
    "average_precision2 = average_precision_score(y2_test, y2_predicted)\n",
    "roc_auc2 = roc_auc_score(y2_test, y2_predicted)\n",
    "print('Average precision-recall score: {0:0.2f}'.format(average_precision2))\n",
    "print('AUC: {0:0.2f}'.format(roc_auc2))\n",
    "\n",
    "\n",
    "# Plotting a confusion matrix\n",
    "y2_true = np.array(y2_test)\n",
    "confusion_matrix2 = ConfusionMatrix(y2_true, y2_predicted)\n",
    "print(\"\\nConfusion matrix:\\n\\n {}\" .format(confusion_matrix2))\n",
    "confusion_matrix2.plot(normalized = True)\n",
    "plt.show()"
   ]
  },
  {
   "cell_type": "markdown",
   "metadata": {},
   "source": [
    "# Model 3 - Increasing the number of hidden layers in our neural network and changing some parameters"
   ]
  },
  {
   "cell_type": "code",
   "execution_count": 12,
   "metadata": {},
   "outputs": [
    {
     "name": "stdout",
     "output_type": "stream",
     "text": [
      "_________________________________________________________________\n",
      "Layer (type)                 Output Shape              Param #   \n",
      "=================================================================\n",
      "dense_5 (Dense)              (None, 10)                110       \n",
      "_________________________________________________________________\n",
      "dense_6 (Dense)              (None, 27)                297       \n",
      "_________________________________________________________________\n",
      "dense_7 (Dense)              (None, 16)                448       \n",
      "_________________________________________________________________\n",
      "dense_8 (Dense)              (None, 2)                 34        \n",
      "_________________________________________________________________\n",
      "dense_9 (Dense)              (None, 1)                 3         \n",
      "=================================================================\n",
      "Total params: 892\n",
      "Trainable params: 892\n",
      "Non-trainable params: 0\n",
      "_________________________________________________________________\n"
     ]
    }
   ],
   "source": [
    "X3_train, X3_test, y3_train, y3_test = train_test_split(new_X, new_y.as_matrix(), test_size = 0.33, random_state = 42)\n",
    "\n",
    "model3 = Sequential()\n",
    "model3.add(Dense(10, input_dim = 10, activation = 'tanh')) \n",
    "model3.add(Dense(27, activation = 'tanh'))\n",
    "model3.add(Dense(16, activation = 'tanh'))\n",
    "model3.add(Dense(2, activation = 'tanh'))\n",
    "model3.add(Dense(1, activation = 'sigmoid'))\n",
    "model3.compile(loss = 'binary_crossentropy', optimizer = 'adam', metrics = ['accuracy'])\n",
    "model3.summary()"
   ]
  },
  {
   "cell_type": "code",
   "execution_count": 13,
   "metadata": {},
   "outputs": [
    {
     "name": "stdout",
     "output_type": "stream",
     "text": [
      "Epoch 1/2\n",
      "380982/380982 [==============================] - 22s 58us/step - loss: 0.0337 - acc: 0.9933\n",
      "Epoch 2/2\n",
      "380982/380982 [==============================] - 22s 57us/step - loss: 0.0090 - acc: 0.9968\n"
     ]
    },
    {
     "data": {
      "text/plain": [
       "<keras.callbacks.History at 0x1a3a68d0f0>"
      ]
     },
     "execution_count": 13,
     "metadata": {},
     "output_type": "execute_result"
    }
   ],
   "source": [
    "model3.fit(X3_train, y3_train, epochs = 2)"
   ]
  },
  {
   "cell_type": "code",
   "execution_count": 14,
   "metadata": {},
   "outputs": [
    {
     "name": "stdout",
     "output_type": "stream",
     "text": [
      "Loss:  [0.00791868054244211, 0.9973354365620737]\n",
      "Average precision-recall score: 1.00\n",
      "AUC: 0.77\n"
     ]
    }
   ],
   "source": [
    "print(\"Loss: \", model3.evaluate(X3_test, y3_test, verbose = 0))\n",
    "\n",
    "y3_predicted = np.round(model3.predict(X3_test)).T[0]\n",
    "y3_correct = np.array(y3_test)\n",
    "\n",
    "# Calculates precision-recall score and auc\n",
    "average_precision3 = average_precision_score(y3_correct, y3_predicted)\n",
    "roc_auc3 = roc_auc_score(y2_test, y2_predicted)\n",
    "\n",
    "print('Average precision-recall score: {0:0.2f}'.format(average_precision3))\n",
    "print('AUC: {0:0.2f}'.format(roc_auc3))"
   ]
  },
  {
   "cell_type": "code",
   "execution_count": 15,
   "metadata": {},
   "outputs": [
    {
     "name": "stdout",
     "output_type": "stream",
     "text": [
      "Incorrect: 500\n",
      "Inaccuracy: 0.00266456343792633\n",
      "Accuracy: 0.9973354365620737\n",
      "False Negatives ratio: 0.334\n",
      "False Positives ratio: 0.666\n",
      "False Negatives/total: 0.0008899641882673942\n"
     ]
    }
   ],
   "source": [
    "FN = 0\n",
    "FP = 0\n",
    "incorrect = 0\n",
    "total = len(y3_test)\n",
    "for i in range(len(y3_test)):\n",
    "    if y3_predicted[i] != y3_correct[i]:\n",
    "        incorrect += 1\n",
    "        if y3_correct[i] == 1 and y3_predicted[i] == 0:\n",
    "            FN += 1\n",
    "        else:\n",
    "            FP += 1\n",
    "\n",
    "inaccuracy = incorrect / total\n",
    "\n",
    "print('Incorrect:', incorrect)\n",
    "print('Inaccuracy:', inaccuracy)\n",
    "print('Accuracy:', 1 - inaccuracy)\n",
    "print('False Negatives ratio:', FN/incorrect)\n",
    "print('False Positives ratio:', FP/ incorrect )\n",
    "print('False Negatives/total:', FN/total)"
   ]
  },
  {
   "cell_type": "code",
   "execution_count": 16,
   "metadata": {},
   "outputs": [
    {
     "name": "stdout",
     "output_type": "stream",
     "text": [
      "Confusion matrix: \n",
      "\n",
      "Predicted  False   True  __all__\n",
      "Actual                          \n",
      "False      93442    333    93775\n",
      "True         167  93706    93873\n",
      "__all__    93609  94039   187648\n"
     ]
    },
    {
     "data": {
      "image/png": "[encoded data removed]",
      "text/plain": [
       "<matplotlib.figure.Figure at 0x1a461f52b0>"
      ]
     },
     "metadata": {},
     "output_type": "display_data"
    },
    {
     "name": "stdout",
     "output_type": "stream",
     "text": [
      "population: 187648\n",
      "P: 93873\n",
      "N: 93775\n",
      "PositiveTest: 94039\n",
      "NegativeTest: 93609\n",
      "TP: 93706\n",
      "TN: 93442\n",
      "FP: 333\n",
      "FN: 167\n",
      "TPR: 0.9982210007137302\n",
      "TNR: 0.9964489469474807\n",
      "PPV: 0.9964589159816671\n",
      "NPV: 0.9982159835058595\n",
      "FPR: 0.003551053052519328\n",
      "FDR: 0.0035410840183328195\n",
      "FNR: 0.0017789992862697473\n",
      "ACC: 0.9973354365620737\n",
      "F1_score: 0.9973391800417216\n",
      "MCC: 4.5493336405068865\n",
      "informedness: 0.9946699476612109\n",
      "markedness: 0.9946748994875265\n",
      "prevalence: 0.5002611272169167\n",
      "LRP: 281.1056286544446\n",
      "LRN: 0.001785339120202324\n",
      "DOR: 157452.23160885437\n",
      "FOR: 0.0017840164941405206\n"
     ]
    }
   ],
   "source": [
    "# Plotting a confusion matrix\n",
    "confusion_matrix3 = ConfusionMatrix(y3_correct, y3_predicted)\n",
    "print(\"Confusion matrix: \\n\\n{}\"  .format(confusion_matrix3))\n",
    "confusion_matrix3.plot(normalized = True)\n",
    "plt.show()\n",
    "confusion_matrix3.print_stats()"
   ]
  },
  {
   "cell_type": "code",
   "execution_count": 17,
   "metadata": {},
   "outputs": [
    {
     "data": {
      "text/plain": [
       "Text(0.5,1,'2-class Precision-Recall curve: AP=1.00')"
      ]
     },
     "execution_count": 17,
     "metadata": {},
     "output_type": "execute_result"
    },
    {
     "data": {
      "image/png": "[encoded data removed]",
      "text/plain": [
       "<matplotlib.figure.Figure at 0x1a461f5668>"
      ]
     },
     "metadata": {},
     "output_type": "display_data"
    }
   ],
   "source": [
    "from sklearn.metrics import precision_recall_curve\n",
    "from inspect import signature\n",
    "\n",
    "precision, recall, _ = precision_recall_curve(y3_correct, y3_predicted)\n",
    "\n",
    "step_kwargs = ({'step': 'post'}\n",
    "               if 'step' in signature(plt.fill_between).parameters\n",
    "               else {})\n",
    "plt.step(recall, precision, color='darkorange', alpha=0.2,\n",
    "         where='post')\n",
    "plt.fill_between(recall, precision, alpha=0.2, color='darkorange', **step_kwargs)\n",
    "\n",
    "plt.xlabel('Recall')\n",
    "plt.ylabel('Precision')\n",
    "plt.ylim([0.0, 1.05])\n",
    "plt.xlim([0.0, 1.0])\n",
    "plt.title('2-class Precision-Recall curve: AP={0:0.2f}'.format(average_precision3))"
   ]
  },
  {
   "cell_type": "code",
   "execution_count": 18,
   "metadata": {},
   "outputs": [
    {
     "name": "stdout",
     "output_type": "stream",
     "text": [
      "AUC: 1.00\n"
     ]
    },
    {
     "data": {
      "image/png": "[encoded data removed]",
      "text/plain": [
       "<matplotlib.figure.Figure at 0x1a461f5d30>"
      ]
     },
     "metadata": {},
     "output_type": "display_data"
    }
   ],
   "source": [
    "from sklearn.metrics import roc_curve\n",
    "from sklearn.metrics import roc_auc_score\n",
    "\n",
    "# predict probabilities\n",
    "probs = model3.predict_proba(X3_test)\n",
    "\n",
    "# calculate AUC\n",
    "auc = roc_auc_score(y3_correct, probs)\n",
    "print('AUC: {0:.2f}' .format(auc))\n",
    "\n",
    "# calculate roc curve\n",
    "fpr, tpr, thresholds = roc_curve(y3_correct, probs)\n",
    "\n",
    "plt.figure()\n",
    "lw = 2\n",
    "# plot the roc curve for the model\n",
    "plt.plot(fpr, tpr, color='darkorange', marker='.',\n",
    "         lw=lw, label='ROC curve (area = {0:0.2f})' .format(auc))\n",
    "plt.plot([0, 1], [0, 1], lw=lw, linestyle='--')\n",
    "plt.xlim([0.0, 1.0])\n",
    "plt.ylim([0.0, 1.05])\n",
    "plt.xlabel('False Positive Rate')\n",
    "plt.ylabel('True Positive Rate')\n",
    "plt.title('Receiver operating characteristic')\n",
    "plt.legend(loc=\"lower right\")\n",
    "# show the plot\n",
    "plt.show()"
   ]
  }
 ],
 "metadata": {
  "anaconda-cloud": {},
  "kernelspec": {
   "display_name": "Python 3",
   "language": "python",
   "name": "python3"
  },
  "language_info": {
   "codemirror_mode": {
    "name": "ipython",
    "version": 3
   },
   "file_extension": ".py",
   "mimetype": "text/x-python",
   "name": "python",
   "nbconvert_exporter": "python",
   "pygments_lexer": "ipython3",
   "version": "3.6.8"
  }
 },
 "nbformat": 4,
 "nbformat_minor": 2
}
